{
 "cells": [
  {
   "cell_type": "markdown",
   "id": "c27157e2",
   "metadata": {},
   "source": [
    "# Uniform random distribution histogram"
   ]
  },
  {
   "cell_type": "markdown",
   "id": "1bb43993",
   "metadata": {},
   "source": [
    "#### First import matplotlib"
   ]
  },
  {
   "cell_type": "code",
   "execution_count": 8,
   "id": "d7112a0c",
   "metadata": {},
   "outputs": [],
   "source": [
    "import numpy as np\n",
    "import matplotlib.pyplot as plt"
   ]
  },
  {
   "cell_type": "markdown",
   "id": "798510c9",
   "metadata": {},
   "source": [
    "#### Create histogram"
   ]
  },
  {
   "cell_type": "code",
   "execution_count": 9,
   "id": "fbfff4b2",
   "metadata": {},
   "outputs": [
    {
     "data": {
      "image/png": "[encoded data removed]",
      "text/plain": [
       "<Figure size 432x288 with 1 Axes>"
      ]
     },
     "metadata": {
      "needs_background": "light"
     },
     "output_type": "display_data"
    }
   ],
   "source": [
    "x = np.random.rand(1000)   # generates 1000 random numbers distributed uniformly between [0,1]\n",
    "\n",
    "# create histogram bins\n",
    "bins = 100   #set 100 bins\n",
    "plt.hist(x, bins=bins, alpha=0.5,edgecolor=\"black\")  #histogram numbers into bins\n",
    "plt.ylabel(\"N per bin\")        #label x axis \n",
    "plt.xlabel(\"x\")                #label y axis\n",
    "plt.savefig('Session_9_Prompt.pdf' ,bbox_inches=\"tight\" ,facecolor=\"white\")   #save figure as PDF"
   ]
  }
 ],
 "metadata": {
  "kernelspec": {
   "display_name": "Python 3 (ipykernel)",
   "language": "python",
   "name": "python3"
  },
  "language_info": {
   "codemirror_mode": {
    "name": "ipython",
    "version": 3
   },
   "file_extension": ".py",
   "mimetype": "text/x-python",
   "name": "python",
   "nbconvert_exporter": "python",
   "pygments_lexer": "ipython3",
   "version": "3.10.4"
  }
 },
 "nbformat": 4,
 "nbformat_minor": 5
}
