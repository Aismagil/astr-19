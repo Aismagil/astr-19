{
 "cells": [
  {
   "cell_type": "markdown",
   "id": "19d7d520",
   "metadata": {},
   "source": [
    "# Comparing sin(x) and cos(x)"
   ]
  },
  {
   "cell_type": "markdown",
   "id": "aeb59f63",
   "metadata": {},
   "source": [
    "#### First import numpy"
   ]
  },
  {
   "cell_type": "code",
   "execution_count": null,
   "id": "2a826eac",
   "metadata": {},
   "outputs": [],
   "source": [
    "import numpy as np"
   ]
  },
  {
   "cell_type": "markdown",
   "id": "e9ade990",
   "metadata": {},
   "source": [
    "#### Write function that returns sin(x)"
   ]
  },
  {
   "cell_type": "code",
   "execution_count": null,
   "id": "71ebc783",
   "metadata": {},
   "outputs": [],
   "source": [
    "def sine(x):\n",
    "    return(np.sin(x))"
   ]
  },
  {
   "cell_type": "markdown",
   "id": "d479b182",
   "metadata": {},
   "source": [
    "#### Write function that returns cos(x)"
   ]
  },
  {
   "cell_type": "code",
   "execution_count": null,
   "id": "73feee35",
   "metadata": {},
   "outputs": [],
   "source": [
    "def cosine(x):\n",
    "    return(np.cos(x))"
   ]
  },
  {
   "cell_type": "markdown",
   "id": "bb6f06f6",
   "metadata": {},
   "source": [
    "#### Function to tabulate sin(x) and cos(x) vs x where x is tabulated between 0 and 2pi with a thousand entires"
   ]
  },
  {
   "cell_type": "code",
   "execution_count": null,
   "id": "3e380a76",
   "metadata": {},
   "outputs": [],
   "source": [
    "x = np.linspace(0,2*np.pi,1000)            \n",
    "for i in range(len(x)):\n",
    "    print(f\"{x[i]:6.5e} {sine(x[i]):6.5e} {cosine(x[i]):6.5e}\")"
   ]
  },
  {
   "cell_type": "markdown",
   "id": "a9162718",
   "metadata": {},
   "source": [
    "#### Function that uses a for loop to print out the first ten values of x, sin(x), and cos(x) in columns"
   ]
  },
  {
   "cell_type": "code",
   "execution_count": null,
   "id": "f054c125",
   "metadata": {},
   "outputs": [],
   "source": [
    "x = np.linspace(0,2*np.pi,1000)            #creates an array of 1000 entries between 0 and 2p\n",
    "for i in range(10):\n",
    "    print(f\"{x[i]:6.5e} {sine(x[i]):6.5e} {cosine(x[i]):6.5e}\")"
   ]
  },
  {
   "cell_type": "code",
   "execution_count": null,
   "id": "b19d5d63",
   "metadata": {},
   "outputs": [],
   "source": []
  }
 ],
 "metadata": {
  "kernelspec": {
   "display_name": "Python 3 (ipykernel)",
   "language": "python",
   "name": "python3"
  },
  "language_info": {
   "codemirror_mode": {
    "name": "ipython",
    "version": 3
   },
   "file_extension": ".py",
   "mimetype": "text/x-python",
   "name": "python",
   "nbconvert_exporter": "python",
   "pygments_lexer": "ipython3",
   "version": "3.10.4"
  }
 },
 "nbformat": 4,
 "nbformat_minor": 5
}
