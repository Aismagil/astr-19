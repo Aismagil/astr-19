{
 "cells": [
  {
   "cell_type": "markdown",
   "id": "29066ac2",
   "metadata": {},
   "source": [
    "# Exp()"
   ]
  },
  {
   "cell_type": "markdown",
   "id": "94f98341",
   "metadata": {},
   "source": [
    "#### First import matplotlib"
   ]
  },
  {
   "cell_type": "code",
   "execution_count": null,
   "id": "43faef79",
   "metadata": {},
   "outputs": [],
   "source": [
    "import numpy as np\n",
    "import matplotlib.pyplot as plt"
   ]
  },
  {
   "cell_type": "markdown",
   "id": "209e6e77",
   "metadata": {},
   "source": [
    "#### Define function that returns exp()"
   ]
  },
  {
   "cell_type": "code",
   "execution_count": null,
   "id": "cf7dd636",
   "metadata": {},
   "outputs": [],
   "source": [
    "def exp(x):\n",
    "    return(np.exp(x))"
   ]
  },
  {
   "cell_type": "markdown",
   "id": "2dd64263",
   "metadata": {},
   "source": [
    "#### Set y=exp() and plot x vs y"
   ]
  },
  {
   "cell_type": "code",
   "execution_count": null,
   "id": "32b631e9",
   "metadata": {},
   "outputs": [],
   "source": [
    "x = np.linspace(0, 1, 100)   #Create array x ranging from [0,1] in 100 steps\n",
    "y = exp(x)\n",
    "plt.plot(x, y)\n",
    "plt.xlabel('Time[milliseconds]')\n",
    "plt.ylabel('Awesomeness')\n",
    "plt.savefig('Session_7_Prompt.pdf' ,bbox_inches=\"tight\" ,dpi=600)"
   ]
  },
  {
   "cell_type": "code",
   "execution_count": null,
   "id": "e42d11c1",
   "metadata": {},
   "outputs": [],
   "source": []
  }
 ],
 "metadata": {
  "kernelspec": {
   "display_name": "Python 3 (ipykernel)",
   "language": "python",
   "name": "python3"
  },
  "language_info": {
   "codemirror_mode": {
    "name": "ipython",
    "version": 3
   },
   "file_extension": ".py",
   "mimetype": "text/x-python",
   "name": "python",
   "nbconvert_exporter": "python",
   "pygments_lexer": "ipython3",
   "version": "3.10.4"
  }
 },
 "nbformat": 4,
 "nbformat_minor": 5
}
