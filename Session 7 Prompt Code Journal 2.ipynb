{
 "cells": [
  {
   "cell_type": "markdown",
   "id": "5a8a8623",
   "metadata": {},
   "source": [
    "# Exp()"
   ]
  },
  {
   "cell_type": "markdown",
   "id": "6ac749c4",
   "metadata": {},
   "source": [
    "#### First import matplotlib"
   ]
  },
  {
   "cell_type": "code",
   "execution_count": null,
   "id": "bb606637",
   "metadata": {},
   "outputs": [],
   "source": [
    "import numpy as np\n",
    "import matplotlib.pyplot as plt"
   ]
  },
  {
   "cell_type": "markdown",
   "id": "10cd3296",
   "metadata": {},
   "source": [
    "#### Define function that returns exp()"
   ]
  },
  {
   "cell_type": "code",
   "execution_count": null,
   "id": "3ccb3ce1",
   "metadata": {},
   "outputs": [],
   "source": [
    "def exp(x):\n",
    "    return(np.exp(x))"
   ]
  },
  {
   "cell_type": "markdown",
   "id": "a77880d5",
   "metadata": {},
   "source": [
    "#### Set y=exp() and plot x vs y"
   ]
  },
  {
   "cell_type": "code",
   "execution_count": null,
   "id": "43951327",
   "metadata": {},
   "outputs": [],
   "source": [
    "x = np.linspace(0, 1, 100)   #Create array x ranging from [0,1] in 100 steps\n",
    "y = exp(x)                   #Setting y = exp(x)\n",
    "plt.plot(x, y)               # Ploting x vs y\n",
    "plt.xlabel('Time[milliseconds]')   #labelling x-axis\n",
    "plt.ylabel('Awesomeness')          #labellinf y-axis\n",
    "plt.savefig('Session_7_Prompt.pdf' ,bbox_inches=\"tight\" ,dpi=600)   #save figure as PDF"
   ]
  },
  {
   "cell_type": "code",
   "execution_count": null,
   "id": "a03e0136",
   "metadata": {},
   "outputs": [],
   "source": []
  }
 ],
 "metadata": {
  "kernelspec": {
   "display_name": "Python 3 (ipykernel)",
   "language": "python",
   "name": "python3"
  },
  "language_info": {
   "codemirror_mode": {
    "name": "ipython",
    "version": 3
   },
   "file_extension": ".py",
   "mimetype": "text/x-python",
   "name": "python",
   "nbconvert_exporter": "python",
   "pygments_lexer": "ipython3",
   "version": "3.10.4"
  }
 },
 "nbformat": 4,
 "nbformat_minor": 5
}
