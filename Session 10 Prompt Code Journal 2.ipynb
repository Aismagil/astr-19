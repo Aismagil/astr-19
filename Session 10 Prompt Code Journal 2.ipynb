{
 "cells": [
  {
   "cell_type": "markdown",
   "id": "9a9ca397",
   "metadata": {},
   "source": [
    "# Favorite distrubution histogram"
   ]
  },
  {
   "cell_type": "markdown",
   "id": "22c49b5e",
   "metadata": {},
   "source": [
    "#### First import matplotlib"
   ]
  },
  {
   "cell_type": "code",
   "execution_count": null,
   "id": "0fde2a22",
   "metadata": {},
   "outputs": [],
   "source": [
    "import numpy as np\n",
    "import matplotlib.pyplot as plt"
   ]
  },
  {
   "cell_type": "markdown",
   "id": "c3f84948",
   "metadata": {},
   "source": [
    "#### Create histogram"
   ]
  },
  {
   "cell_type": "code",
   "execution_count": null,
   "id": "4709b2b6",
   "metadata": {},
   "outputs": [],
   "source": [
    "x = np.random.randn(1000)   # generates 1000 random numbers in \"standard normal\" distribution\n",
    "\n",
    "# create histogram bins\n",
    "bins = 100   #set 100 bins\n",
    "plt.hist(x, bins=bins, alpha=0.5,edgecolor=\"black\")  #histogram numbers into bins\n",
    "plt.ylabel(\"N per bin\")         #label x axis\n",
    "plt.xlabel(\"x\")                 # label y axis\n",
    "plt.savefig('Session_10_Prompt.pdf' ,bbox_inches=\"tight\" ,facecolor=\"white\")   #save figure as PDF"
   ]
  }
 ],
 "metadata": {
  "kernelspec": {
   "display_name": "Python 3 (ipykernel)",
   "language": "python",
   "name": "python3"
  },
  "language_info": {
   "codemirror_mode": {
    "name": "ipython",
    "version": 3
   },
   "file_extension": ".py",
   "mimetype": "text/x-python",
   "name": "python",
   "nbconvert_exporter": "python",
   "pygments_lexer": "ipython3",
   "version": "3.10.4"
  }
 },
 "nbformat": 4,
 "nbformat_minor": 5
}
