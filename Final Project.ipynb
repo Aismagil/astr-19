{
 "cells": [
  {
   "cell_type": "code",
   "execution_count": null,
   "id": "102144e8",
   "metadata": {},
   "outputs": [],
   "source": [
    "import numpy as np\n",
    "import sep"
   ]
  },
  {
   "cell_type": "code",
   "execution_count": null,
   "id": "1b280f68",
   "metadata": {},
   "outputs": [],
   "source": [
    "# additional setup for reading the test image and displaying plors\n",
    "from astropy.io import fits\n",
    "import matplotlib.pyplot as plt\n",
    "from matplotlib import rcParams\n",
    "\n",
    "%matplotlib inline\n",
    "\n",
    "rcParams['figure.figsize'] = [10., 8.]"
   ]
  },
  {
   "cell_type": "code",
   "execution_count": null,
   "id": "3cfa9545",
   "metadata": {},
   "outputs": [],
   "source": [
    "# get image FITS file and open it\n",
    "data = astropy.io.fits.open('image.fits')\n"
   ]
  },
  {
   "cell_type": "code",
   "execution_count": null,
   "id": "587f06c7",
   "metadata": {},
   "outputs": [],
   "source": [
    "#show the image\n",
    "plt.figure()\n",
    "plt.imshow(data, cmap='gray')\n",
    "plt.colorbar()"
   ]
  }
 ],
 "metadata": {
  "kernelspec": {
   "display_name": "Python 3 (ipykernel)",
   "language": "python",
   "name": "python3"
  },
  "language_info": {
   "codemirror_mode": {
    "name": "ipython",
    "version": 3
   },
   "file_extension": ".py",
   "mimetype": "text/x-python",
   "name": "python",
   "nbconvert_exporter": "python",
   "pygments_lexer": "ipython3",
   "version": "3.10.4"
  }
 },
 "nbformat": 4,
 "nbformat_minor": 5
}
