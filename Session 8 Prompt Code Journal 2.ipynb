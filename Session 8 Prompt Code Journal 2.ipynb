{
 "cells": [
  {
   "cell_type": "markdown",
   "id": "80247c31",
   "metadata": {},
   "source": [
    "# Multipanel plot of sin(x) vs x and cos(x) vs x"
   ]
  },
  {
   "cell_type": "markdown",
   "id": "3242cd5f",
   "metadata": {},
   "source": [
    "#### First import matplotlib"
   ]
  },
  {
   "cell_type": "code",
   "execution_count": null,
   "id": "45090052",
   "metadata": {},
   "outputs": [],
   "source": [
    "import numpy as np\n",
    "import matplotlib.pyplot as plt"
   ]
  },
  {
   "cell_type": "markdown",
   "id": "fb4affa5",
   "metadata": {},
   "source": [
    "#### Write function that returns sin(x)"
   ]
  },
  {
   "cell_type": "code",
   "execution_count": null,
   "id": "14f5fe33",
   "metadata": {},
   "outputs": [],
   "source": [
    "def sine(x):\n",
    "    return(np.sin(x))"
   ]
  },
  {
   "cell_type": "markdown",
   "id": "b2ca8211",
   "metadata": {},
   "source": [
    "#### Write function that returns cos(x)"
   ]
  },
  {
   "cell_type": "code",
   "execution_count": null,
   "id": "e9b63c9e",
   "metadata": {},
   "outputs": [],
   "source": [
    "def cosine(x):\n",
    "    return(np.cos(x))"
   ]
  },
  {
   "cell_type": "markdown",
   "id": "9060c9dc",
   "metadata": {},
   "source": [
    "#### Define the array"
   ]
  },
  {
   "cell_type": "code",
   "execution_count": null,
   "id": "c80ed2f0",
   "metadata": {},
   "outputs": [],
   "source": [
    "x = np.linspace(0, 1, 100) #Create array x ranging from [0,1] in 100 steps\n",
    "y = sine(x)    \n",
    "z = cosine(x)"
   ]
  },
  {
   "cell_type": "markdown",
   "id": "d6581eef",
   "metadata": {},
   "source": [
    "#### Create multipanel plot, plotting sin(x) vs x and cos(x) vs x"
   ]
  },
  {
   "cell_type": "code",
   "execution_count": null,
   "id": "02914ce9",
   "metadata": {},
   "outputs": [],
   "source": [
    "#Call subplots to generate a multipanel figure with 1 row and 2 columns\n",
    "f, axarr = plt.subplots(1, 2)\n",
    "\n",
    "#first panel that plots sin(x) vs x\n",
    "axarr[0].plot(x, y)\n",
    "axarr[0].set_xlabel('x')\n",
    "axarr[0].set_ylabel('sin(x)')\n",
    "axarr[0].set_title(r'$\\sin(x)$')\n",
    "#second panel that plots cos(x) vs x\n",
    "axarr[1].plot(x, z)\n",
    "axarr[1].set_xlabel('x')\n",
    "axarr[1].set_ylabel('cos(x)')\n",
    "axarr[1].set_title(r'$\\cos(x)$')\n",
    "\n",
    "#add more space between the figures\n",
    "f.subplots_adjust(wspace=0.4)\n",
    "\n",
    "plt.savefig('Session_8_Prompt.pdf' ,bbox_inches=\"tight\" ,dpi=600)   #save figure as PDF"
   ]
  }
 ],
 "metadata": {
  "kernelspec": {
   "display_name": "Python 3 (ipykernel)",
   "language": "python",
   "name": "python3"
  },
  "language_info": {
   "codemirror_mode": {
    "name": "ipython",
    "version": 3
   },
   "file_extension": ".py",
   "mimetype": "text/x-python",
   "name": "python",
   "nbconvert_exporter": "python",
   "pygments_lexer": "ipython3",
   "version": "3.10.4"
  }
 },
 "nbformat": 4,
 "nbformat_minor": 5
}
